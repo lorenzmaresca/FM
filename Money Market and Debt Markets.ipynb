{
 "cells": [
  {
   "cell_type": "code",
   "execution_count": 1,
   "metadata": {},
   "outputs": [],
   "source": [
    "import pandas as pd \n",
    "import numpy as np\n",
    "import matplotlib.pyplot as plt\n",
    "%matplotlib inline"
   ]
  },
  {
   "cell_type": "code",
   "execution_count": 34,
   "metadata": {},
   "outputs": [
    {
     "data": {
      "text/plain": [
       "0.004058333333333334"
      ]
     },
     "execution_count": 34,
     "metadata": {},
     "output_type": "execute_result"
    }
   ],
   "source": [
    "daycount(30, \"offshore\", \"US\", 0.0487)"
   ]
  },
  {
   "cell_type": "markdown",
   "metadata": {},
   "source": [
    "## Money Markets"
   ]
  },
  {
   "cell_type": "markdown",
   "metadata": {},
   "source": [
    "Daycount Conventions"
   ]
  },
  {
   "cell_type": "code",
   "execution_count": 35,
   "metadata": {},
   "outputs": [],
   "source": [
    "def daycount(days, market, country, r):\n",
    "    if market == \"offshore\" and country in [\"US\", \"JPY\", \"EU\", \"CHF\"]:\n",
    "        res = r * days/360\n",
    "        return res\n",
    "    elif market == \"offshore\" and country == \"GBP\": \n",
    "        res = r*days/365\n",
    "        return res \n",
    "    elif market == \"domestic\" and country == \"JPY\":\n",
    "        res = r * days/365\n",
    "        return res\n",
    "    else:\n",
    "        res = (r * days)/360\n",
    "        return res"
   ]
  },
  {
   "cell_type": "markdown",
   "metadata": {},
   "source": [
    "T-Bill Pricer"
   ]
  },
  {
   "cell_type": "code",
   "execution_count": 42,
   "metadata": {},
   "outputs": [],
   "source": [
    "def TBillPricer(faceval, yld, days, market, country):\n",
    "    \n",
    "    price = faceval * (1 - daycount(days, market, country, yld))\n",
    "    \n",
    "    return price"
   ]
  },
  {
   "cell_type": "code",
   "execution_count": 39,
   "metadata": {},
   "outputs": [
    {
     "data": {
      "text/plain": [
       "19918833.333333332"
      ]
     },
     "execution_count": 39,
     "metadata": {},
     "output_type": "execute_result"
    }
   ],
   "source": [
    "TBillPricer(faceval = 20000000, \n",
    "         yld = 0.0487, \n",
    "         days = 30,\n",
    "         market = \"domestic\", \n",
    "         country = \"US\")"
   ]
  },
  {
   "cell_type": "markdown",
   "metadata": {},
   "source": [
    "Certificate of Deposit Pricer"
   ]
  },
  {
   "cell_type": "code",
   "execution_count": 40,
   "metadata": {},
   "outputs": [],
   "source": [
    "def CDPricer(facval, rate,days, market, country):\n",
    "    price = facval * (1 + daycount(days, market, country, rate))\n",
    "    return price "
   ]
  },
  {
   "cell_type": "code",
   "execution_count": 41,
   "metadata": {},
   "outputs": [
    {
     "data": {
      "text/plain": [
       "2040000.0"
      ]
     },
     "execution_count": 41,
     "metadata": {},
     "output_type": "execute_result"
    }
   ],
   "source": [
    "CDPricer(facval = 2000000,\n",
    "         coupon =  0.0575,\n",
    "         days = 90, \n",
    "         market = \"offshore\", \n",
    "         country = \"US\")"
   ]
  },
  {
   "cell_type": "markdown",
   "metadata": {},
   "source": [
    "Pricer for a CD that has already been initialized. "
   ]
  },
  {
   "cell_type": "code",
   "execution_count": 49,
   "metadata": {},
   "outputs": [],
   "source": [
    "def CertDepositPricer(initial_r, facval, current_r ,int_day,buy_day, market, country):\n",
    "    \n",
    "    up = (facval * (1 + daycount(int_day, market, country, initial_r)))\n",
    "    \n",
    "    down = (1 + daycount(buy_day, market, country, current_r))\n",
    "    \n",
    "    price = up/down\n",
    "    \n",
    "    diff = up - price\n",
    "    \n",
    "    return price, diff"
   ]
  },
  {
   "cell_type": "code",
   "execution_count": 50,
   "metadata": {},
   "outputs": [
    {
     "data": {
      "text/plain": [
       "(2019912.8811449907, 8837.118855009321)"
      ]
     },
     "execution_count": 50,
     "metadata": {},
     "output_type": "execute_result"
    }
   ],
   "source": [
    "CertDepositPricer(initial_r = 0.0575,\n",
    "                  facval = 2000000,\n",
    "                  current_r =  0.0525,\n",
    "                  int_day = 90, \n",
    "                  buy_day = 30, \n",
    "                  market = \"offshore\", \n",
    "                  country = \"US\")"
   ]
  },
  {
   "cell_type": "markdown",
   "metadata": {},
   "source": [
    "#### Discounted Securities"
   ]
  },
  {
   "cell_type": "markdown",
   "metadata": {},
   "source": [
    "European Commerical Paper"
   ]
  },
  {
   "cell_type": "code",
   "execution_count": 56,
   "metadata": {},
   "outputs": [],
   "source": [
    "def ECPricer(faceval, rate, days, market, country):\n",
    "    price = faceval/ (1 + daycount(days, market, country, rate))\n",
    "    return price"
   ]
  },
  {
   "cell_type": "code",
   "execution_count": 58,
   "metadata": {},
   "outputs": [
    {
     "data": {
      "text/plain": [
       "19912715.928513348"
      ]
     },
     "execution_count": 58,
     "metadata": {},
     "output_type": "execute_result"
    }
   ],
   "source": [
    "ECPricer(faceval = 20000000, \n",
    "         rate = 0.0526, \n",
    "         days = 30,\n",
    "         market = \"offshore\", \n",
    "         country = \"US\")"
   ]
  },
  {
   "cell_type": "markdown",
   "metadata": {},
   "source": [
    "US Commercial Paper and T-Bills"
   ]
  },
  {
   "cell_type": "code",
   "execution_count": 9,
   "metadata": {},
   "outputs": [],
   "source": [
    "def USCP_TBillsPricer(faceval, rate, days, market, country):\n",
    "    price = faceval * (1 - daycount(days, market, country, rate))\n",
    "    return price"
   ]
  },
  {
   "cell_type": "code",
   "execution_count": 10,
   "metadata": {},
   "outputs": [
    {
     "data": {
      "text/plain": [
       "970000.0"
      ]
     },
     "execution_count": 10,
     "metadata": {},
     "output_type": "execute_result"
    }
   ],
   "source": [
    "USCP_TBillsPricer(faceval = 1000000, \n",
    "         rate = 0.10, \n",
    "         days = 90,\n",
    "         market = \"offshore\", \n",
    "         country = \"US\")"
   ]
  },
  {
   "cell_type": "markdown",
   "metadata": {},
   "source": [
    "Money-Market Return"
   ]
  },
  {
   "cell_type": "code",
   "execution_count": 12,
   "metadata": {},
   "outputs": [],
   "source": [
    "def MMReturn(FV, price, days, market, country):\n",
    "    side_one = (FV - price) / price \n",
    "    side_two = daycount(days, market, country, 0)\n",
    "    res = side_one * side_two\n",
    "    return res"
   ]
  },
  {
   "cell_type": "code",
   "execution_count": 13,
   "metadata": {},
   "outputs": [
    {
     "data": {
      "text/plain": [
       "0.00510204081632653"
      ]
     },
     "execution_count": 13,
     "metadata": {},
     "output_type": "execute_result"
    }
   ],
   "source": [
    "MMReturn(FV = 1000000,\n",
    "         price = FV,\n",
    "         days = 90,\n",
    "         market = \"domestic\",\n",
    "         country = \"US\") "
   ]
  },
  {
   "cell_type": "markdown",
   "metadata": {},
   "source": [
    "### Exercises"
   ]
  },
  {
   "cell_type": "code",
   "execution_count": 61,
   "metadata": {},
   "outputs": [
    {
     "data": {
      "text/plain": [
       "20081166.666666668"
      ]
     },
     "execution_count": 61,
     "metadata": {},
     "output_type": "execute_result"
    }
   ],
   "source": [
    "t_bill = TBillPricer(faceval = 20000000, \n",
    "         yld = 0.0487, \n",
    "         days = 30,\n",
    "         market = \"domestic\", \n",
    "         country = \"US\")\n",
    "20000000 + ((t_bill - 20000000) * -1)"
   ]
  },
  {
   "cell_type": "markdown",
   "metadata": {},
   "source": [
    "## Debt Markets and DCM"
   ]
  },
  {
   "cell_type": "code",
   "execution_count": 66,
   "metadata": {},
   "outputs": [],
   "source": [
    "def accrued_intrest(convention, notional, coupon, days):\n",
    "    if convention == \"Act/Act\":\n",
    "        acc_int = notional * coupon * days/365\n",
    "        return acc_int\n",
    "    else:\n",
    "        acc_int = notional * coupon * days/360"
   ]
  },
  {
   "cell_type": "code",
   "execution_count": 69,
   "metadata": {},
   "outputs": [
    {
     "data": {
      "text/plain": [
       "335958904.10958904"
      ]
     },
     "execution_count": 69,
     "metadata": {},
     "output_type": "execute_result"
    }
   ],
   "source": [
    "accrued_intrest(\n",
    "    convention = \"Act/Act\", \n",
    "    notional = 100000000000, \n",
    "    coupon = 0.01125, \n",
    "    days = 109)"
   ]
  },
  {
   "cell_type": "code",
   "execution_count": 75,
   "metadata": {},
   "outputs": [],
   "source": [
    "def dirty_price(convention, notional, coupon, days):\n",
    "    acc_int = notional * coupon * days/365\n",
    "    dirty_price = notional + acc_int \n",
    "    dirty_price = (dirty_price /notional ) *100\n",
    "    return dirty_price"
   ]
  },
  {
   "cell_type": "code",
   "execution_count": 76,
   "metadata": {},
   "outputs": [
    {
     "data": {
      "text/plain": [
       "100.33595890410957"
      ]
     },
     "execution_count": 76,
     "metadata": {},
     "output_type": "execute_result"
    }
   ],
   "source": [
    "dirty_price(\n",
    "    convention = \"Act/Act\", \n",
    "    notional = 100000000000, \n",
    "    coupon = 0.01125, \n",
    "    days = 109)"
   ]
  },
  {
   "cell_type": "code",
   "execution_count": 77,
   "metadata": {},
   "outputs": [],
   "source": [
    "import math\n",
    " \n",
    "def total_present_value(face_value, coupon, periods, rate):\n",
    "    total_pv = 0\n",
    "    for n in range(1, periods+1):\n",
    "        total_pv += coupon / math.pow((1 + rate), n)\n",
    " \n",
    "    total_pv += face_value / math.pow((1 + rate), periods)\n",
    " \n",
    "    return total_pv"
   ]
  },
  {
   "cell_type": "code",
   "execution_count": 88,
   "metadata": {},
   "outputs": [],
   "source": [
    "def YTM(price, coupon, annuality, remaining_years,):  \n",
    "   \n",
    "    ytm = coupon\n",
    "    condition = True\n",
    "    \n",
    "    while condition:\n",
    "        if (price < 100):\n",
    "            ytm += 0.0000001\n",
    "        else:\n",
    "            ytm -= 0.0000001\n",
    " \n",
    "        total_pv = total_present_value(100, coupon/annuality, remaining_years *annuality, ytm/annuality)\n",
    " \n",
    "        if (price < 100):\n",
    "            condition = total_pv > price\n",
    "        else:\n",
    "            condition = total_pv < price\n",
    " \n",
    "    print(\"Yield to Maturity:  %.2f%%\" % (ytm*100.0))"
   ]
  },
  {
   "cell_type": "code",
   "execution_count": 89,
   "metadata": {},
   "outputs": [
    {
     "name": "stdout",
     "output_type": "stream",
     "text": [
      "Yield to Maturity:  4.00%\n"
     ]
    }
   ],
   "source": [
    "YTM(\n",
    "    price = 98.63, \n",
    "    coupon = 0.04,\n",
    "    annuality = 1,\n",
    "    remaining_years = 3, \n",
    "   )"
   ]
  },
  {
   "cell_type": "code",
   "execution_count": null,
   "metadata": {},
   "outputs": [],
   "source": []
  },
  {
   "cell_type": "code",
   "execution_count": null,
   "metadata": {},
   "outputs": [],
   "source": []
  },
  {
   "cell_type": "code",
   "execution_count": null,
   "metadata": {},
   "outputs": [],
   "source": []
  },
  {
   "cell_type": "code",
   "execution_count": null,
   "metadata": {},
   "outputs": [],
   "source": []
  }
 ],
 "metadata": {
  "kernelspec": {
   "display_name": "Python 3",
   "language": "python",
   "name": "python3"
  },
  "language_info": {
   "codemirror_mode": {
    "name": "ipython",
    "version": 3
   },
   "file_extension": ".py",
   "mimetype": "text/x-python",
   "name": "python",
   "nbconvert_exporter": "python",
   "pygments_lexer": "ipython3",
   "version": "3.6.8"
  }
 },
 "nbformat": 4,
 "nbformat_minor": 2
}
